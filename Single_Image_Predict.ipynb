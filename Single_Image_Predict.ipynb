{
 "cells": [
  {
   "cell_type": "code",
   "execution_count": 2,
   "id": "ea09dc4f",
   "metadata": {
    "scrolled": true
   },
   "outputs": [],
   "source": [
    "from tensorflow.keras.preprocessing import image\n",
    "from tensorflow.keras.models import load_model\n",
    "from tensorflow.keras.applications.vgg16 import preprocess_input\n",
    "import numpy as np\n",
    "import json"
   ]
  },
  {
   "cell_type": "code",
   "execution_count": 33,
   "id": "16577656",
   "metadata": {},
   "outputs": [],
   "source": [
    "trained_model_path = '/Users/ismaileza/Desktop/grad/VGG_NET_Model_Result.h5'\n",
    "model = load_model(trained_model_path)"
   ]
  },
  {
   "cell_type": "code",
   "execution_count": 49,
   "id": "312f3c50",
   "metadata": {},
   "outputs": [
    {
     "name": "stdout",
     "output_type": "stream",
     "text": [
      "1/1 [==============================] - 0s 128ms/step\n",
      "The model's prediction: glioma\n"
     ]
    }
   ],
   "source": [
    "test_image_path = '/users/ismaileza/Desktop/grad/archive/Testing/glioma/Te-gl_0067.jpg'\n",
    "test_image = image.load_img(test_image_path, target_size=(224, 224))\n",
    "image_array = image.img_to_array(test_image)\n",
    "image_array = np.expand_dims(image_array, axis=0)\n",
    "image_array = preprocess_input(image_array)\n",
    "\n",
    "predictions = model.predict(image_array)\n",
    "predicted_index = np.argmax(predictions)\n",
    "\n",
    "tumor_indices_path = '/Users/ismaileza/Desktop/grad/archive/tumor_indices'\n",
    "with open(tumor_indices_path, 'r') as f:\n",
    "    class_labels = json.load(f)\n",
    "predicted_label = [k for k, v in class_labels.items() if v == predicted_index][0]\n",
    "\n",
    "print(f\"The model's prediction: {predicted_label}\")"
   ]
  },
  {
   "cell_type": "code",
   "execution_count": 1,
   "id": "09dbd1f9",
   "metadata": {},
   "outputs": [
    {
     "name": "stderr",
     "output_type": "stream",
     "text": [
      "2024-01-20 16:18:03.293 python[49148:9016952] +[CATransaction synchronize] called within transaction\n",
      "/var/folders/03/qjcvvyf540g9k7rk3scbmhkw0000gn/T/ipykernel_49148/215470489.py:53: DeprecationWarning: ANTIALIAS is deprecated and will be removed in Pillow 10 (2023-07-01). Use LANCZOS or Resampling.LANCZOS instead.\n",
      "  image_obj = image_obj.resize((300, 300), Image.ANTIALIAS)\n"
     ]
    },
    {
     "name": "stdout",
     "output_type": "stream",
     "text": [
      "1/1 [==============================] - 0s 298ms/step\n"
     ]
    },
    {
     "name": "stderr",
     "output_type": "stream",
     "text": [
      "2024-01-20 16:18:10.763 python[49148:9016952] +[CATransaction synchronize] called within transaction\n"
     ]
    },
    {
     "name": "stdout",
     "output_type": "stream",
     "text": [
      "1/1 [==============================] - 0s 139ms/step\n"
     ]
    },
    {
     "name": "stderr",
     "output_type": "stream",
     "text": [
      "2024-01-20 16:18:22.817 python[49148:9016952] +[CATransaction synchronize] called within transaction\n"
     ]
    },
    {
     "name": "stdout",
     "output_type": "stream",
     "text": [
      "1/1 [==============================] - 0s 134ms/step\n"
     ]
    },
    {
     "name": "stderr",
     "output_type": "stream",
     "text": [
      "2024-01-20 16:18:34.228 python[49148:9016952] +[CATransaction synchronize] called within transaction\n"
     ]
    },
    {
     "name": "stdout",
     "output_type": "stream",
     "text": [
      "1/1 [==============================] - 0s 133ms/step\n"
     ]
    },
    {
     "name": "stderr",
     "output_type": "stream",
     "text": [
      "2024-01-20 16:18:41.686 python[49148:9016952] +[CATransaction synchronize] called within transaction\n"
     ]
    },
    {
     "name": "stdout",
     "output_type": "stream",
     "text": [
      "1/1 [==============================] - 0s 119ms/step\n"
     ]
    },
    {
     "name": "stderr",
     "output_type": "stream",
     "text": [
      "2024-01-20 16:18:52.188 python[49148:9016952] +[CATransaction synchronize] called within transaction\n"
     ]
    },
    {
     "name": "stdout",
     "output_type": "stream",
     "text": [
      "1/1 [==============================] - 0s 130ms/step\n"
     ]
    },
    {
     "name": "stderr",
     "output_type": "stream",
     "text": [
      "2024-01-20 16:19:11.196 python[49148:9016952] +[CATransaction synchronize] called within transaction\n"
     ]
    }
   ],
   "source": [
    "import tkinter as tk\n",
    "from tkinter import filedialog\n",
    "from PIL import Image, ImageTk\n",
    "import numpy as np\n",
    "from tensorflow.keras.models import load_model\n",
    "from tensorflow.keras.preprocessing import image\n",
    "from tensorflow.keras.applications.vgg16 import preprocess_input\n",
    "import json\n",
    "\n",
    "trained_model_path = '/Users/ismaileza/Desktop/grad/VGG_NET_Model_Result.h5'\n",
    "model = load_model(trained_model_path)\n",
    "\n",
    "tumor_indices_path = '/Users/ismaileza/Desktop/grad/archive/tumor_indices'\n",
    "with open(tumor_indices_path, 'r') as f:\n",
    "    class_labels = json.load(f)\n",
    "\n",
    "class ImageClassifierApp:\n",
    "    def __init__(self, root):\n",
    "        self.root = root\n",
    "        self.root.title(\"Tumor Detection and Classifier App\")\n",
    "\n",
    "        self.image_path = None\n",
    "        self.prediction_label = tk.StringVar()\n",
    "        self.create_ui()\n",
    "\n",
    "    def create_ui(self):\n",
    "        add_image_button = tk.Button(self.root, text=\"Add Image\", command=self.load_image)\n",
    "        add_image_button.pack(pady=10)\n",
    "\n",
    "        self.image_label = tk.Label(self.root)\n",
    "        self.image_label.pack()\n",
    "\n",
    "            classify_button = tk.Button(self.root, text=\"Predict\", command=self.classify_image)\n",
    "        classify_button.pack(pady=10)\n",
    "\n",
    "        prediction_label = tk.Label(self.root, textvariable=self.prediction_label, font=(\"Helvetica\", 14))\n",
    "        prediction_label.pack(pady=10)\n",
    "\n",
    "    def load_image(self):\n",
    "        file_path = filedialog.askopenfilename(filetypes=[(\"Image files\", \"*.jpg\")])\n",
    "        if file_path:\n",
    "            self.image_path = file_path\n",
    "            self.show_image()\n",
    "\n",
    "    def show_image(self):\n",
    "        image_obj = Image.open(self.image_path)\n",
    "        image_obj = image_obj.resize((300, 300), Image.ANTIALIAS)\n",
    "        photo = ImageTk.PhotoImage(image_obj)\n",
    "        self.image_label.config(image=photo)\n",
    "        self.image_label.image = photo\n",
    "\n",
    "        self.prediction_label.set(\"\")\n",
    "\n",
    "    def classify_image(self):\n",
    "        if self.image_path:\n",
    "            test_image = image.load_img(self.image_path, target_size=(224, 224))\n",
    "            image_array = image.img_to_array(test_image)\n",
    "            image_array = np.expand_dims(image_array, axis=0)\n",
    "            image_array = preprocess_input(image_array)\n",
    "\n",
    "            predictions = model.predict(image_array)\n",
    "            predicted_index = np.argmax(predictions)\n",
    "            predicted_label = [k for k, v in class_labels.items() if v == predicted_index][0]\n",
    "\n",
    "            self.prediction_label.set(f\"The model's prediction: {predicted_label}\")\n",
    "        else:\n",
    "            self.prediction_label.set(\"Please add an image first.\")\n",
    "\n",
    "if __name__ == \"__main__\":\n",
    "    root = tk.Tk()\n",
    "    root.geometry(\"800x600\")\n",
    "    app = ImageClassifierApp(root)\n",
    "    root.mainloop()\n"
   ]
  },
  {
   "cell_type": "code",
   "execution_count": null,
   "id": "54605200",
   "metadata": {},
   "outputs": [],
   "source": []
  },
  {
   "cell_type": "code",
   "execution_count": null,
   "id": "9452f393",
   "metadata": {},
   "outputs": [],
   "source": []
  }
 ],
 "metadata": {
  "kernelspec": {
   "display_name": "Python 3 (ipykernel)",
   "language": "python",
   "name": "python3"
  },
  "language_info": {
   "codemirror_mode": {
    "name": "ipython",
    "version": 3
   },
   "file_extension": ".py",
   "mimetype": "text/x-python",
   "name": "python",
   "nbconvert_exporter": "python",
   "pygments_lexer": "ipython3",
   "version": "3.11.5"
  }
 },
 "nbformat": 4,
 "nbformat_minor": 5
}
